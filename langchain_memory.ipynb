{
 "cells": [
  {
   "cell_type": "code",
   "execution_count": 1,
   "metadata": {},
   "outputs": [
    {
     "name": "stderr",
     "output_type": "stream",
     "text": [
      "/Users/kariske/langchain/.venv/lib/python3.9/site-packages/urllib3/__init__.py:35: NotOpenSSLWarning: urllib3 v2 only supports OpenSSL 1.1.1+, currently the 'ssl' module is compiled with 'LibreSSL 2.8.3'. See: https://github.com/urllib3/urllib3/issues/3020\n",
      "  warnings.warn(\n"
     ]
    }
   ],
   "source": [
    "import os\n",
    "\n",
    "from dotenv import load_dotenv, find_dotenv\n",
    "load_dotenv(find_dotenv(), override=True)\n",
    "\n",
    "from langchain_openai import ChatOpenAI\n",
    "\n",
    "chat = ChatOpenAI(\n",
    "    openai_api_key=os.environ.get('OPENAI_API_KEY'),\n",
    "    openai_api_base=os.environ.get('CHATGPT_API_ENDPOINT')   \n",
    ")"
   ]
  },
  {
   "cell_type": "code",
   "execution_count": 2,
   "metadata": {},
   "outputs": [],
   "source": [
    "from langchain.chains import ConversationChain"
   ]
  },
  {
   "cell_type": "code",
   "execution_count": 3,
   "metadata": {},
   "outputs": [
    {
     "name": "stderr",
     "output_type": "stream",
     "text": [
      "/var/folders/1f/8yzdnxxs70zbqsthkv66wrvc0000gn/T/ipykernel_19795/4035418024.py:1: LangChainDeprecationWarning: The class `ConversationChain` was deprecated in LangChain 0.2.7 and will be removed in 1.0. Use :meth:`~RunnableWithMessageHistory: https://python.langchain.com/v0.2/api_reference/core/runnables/langchain_core.runnables.history.RunnableWithMessageHistory.html` instead.\n",
      "  conversation_chain = ConversationChain(\n",
      "/Users/kariske/langchain/.venv/lib/python3.9/site-packages/pydantic/main.py:214: LangChainDeprecationWarning: Please see the migration guide at: https://python.langchain.com/docs/versions/migrating_memory/\n",
      "  validated_self = self.__pydantic_validator__.validate_python(data, self_instance=self)\n"
     ]
    }
   ],
   "source": [
    "conversation_chain = ConversationChain(\n",
    "    llm=chat\n",
    ")"
   ]
  },
  {
   "cell_type": "code",
   "execution_count": 4,
   "metadata": {},
   "outputs": [
    {
     "name": "stdout",
     "output_type": "stream",
     "text": [
      "The following is a friendly conversation between a human and an AI. The AI is talkative and provides lots of specific details from its context. If the AI does not know the answer to a question, it truthfully says it does not know.\n",
      "\n",
      "Current conversation:\n",
      "{history}\n",
      "Human: {input}\n",
      "AI:\n"
     ]
    }
   ],
   "source": [
    "print(conversation_chain.prompt.template)"
   ]
  },
  {
   "cell_type": "code",
   "execution_count": 5,
   "metadata": {},
   "outputs": [],
   "source": [
    "from langchain.memory import ConversationBufferMemory"
   ]
  },
  {
   "cell_type": "code",
   "execution_count": 6,
   "metadata": {},
   "outputs": [],
   "source": [
    "conversation_buffer = ConversationChain(\n",
    "    llm=chat,\n",
    "    memory=ConversationBufferMemory()\n",
    ")"
   ]
  },
  {
   "cell_type": "code",
   "execution_count": 8,
   "metadata": {},
   "outputs": [
    {
     "name": "stdout",
     "output_type": "stream",
     "text": [
      "{'input': '你知道怎麼快速找到工作嗎?', 'history': 'Human: 你知道什麼是TikTok嗎?\\nAI: 當然! TikTok是一個流行的社交媒體應用程序，用戶可以通過製作和分享短視頻來互動。它於2016年由中國公司字節跳動推出，隨後在全球迅速崛起，尤其受到年輕人的喜愛。除了短視頻外，TikTok還提供了許多音樂和特效效果供用戶使用，形成了獨特的社交媒體平台。“FYP”(For You Page)是TikTok上推薦給用戶的視頻流。希望這些信息對你有幫助!', 'response': '當然! 要快速找到工作，你可以考慮以下幾個方法: \\n1. 更新你的履歷，確保有清晰的工作經歷和技能列表。\\n2. 在線求職平台如LinkedIn、Indeed等上搜索職缺。\\n3. 與你的職業網絡聯繫，看看是否有任何職位推薦。\\n4. 參加職業招聘活動或職業展會，擴大你的尋找工作的範圍。\\n5. 在社交媒體上關注公司的招聘消息，有時他們會在那裡發佈最新的職位空缺信息。希望這些提示能幫助你找到理想的工作!'}\n"
     ]
    }
   ],
   "source": [
    "result = conversation_buffer.invoke({\"input\": \"你知道怎麼快速找到工作嗎?\"})\n",
    "print(result)"
   ]
  },
  {
   "cell_type": "code",
   "execution_count": 9,
   "metadata": {},
   "outputs": [
    {
     "name": "stdout",
     "output_type": "stream",
     "text": [
      "Human: 你知道什麼是TikTok嗎?\n",
      "AI: 當然! TikTok是一個流行的社交媒體應用程序，用戶可以通過製作和分享短視頻來互動。它於2016年由中國公司字節跳動推出，隨後在全球迅速崛起，尤其受到年輕人的喜愛。除了短視頻外，TikTok還提供了許多音樂和特效效果供用戶使用，形成了獨特的社交媒體平台。“FYP”(For You Page)是TikTok上推薦給用戶的視頻流。希望這些信息對你有幫助!\n",
      "Human: 你知道怎麼快速找到工作嗎?\n",
      "AI: 當然! 要快速找到工作，你可以考慮以下幾個方法: \n",
      "1. 更新你的履歷，確保有清晰的工作經歷和技能列表。\n",
      "2. 在線求職平台如LinkedIn、Indeed等上搜索職缺。\n",
      "3. 與你的職業網絡聯繫，看看是否有任何職位推薦。\n",
      "4. 參加職業招聘活動或職業展會，擴大你的尋找工作的範圍。\n",
      "5. 在社交媒體上關注公司的招聘消息，有時他們會在那裡發佈最新的職位空缺信息。希望這些提示能幫助你找到理想的工作!\n"
     ]
    }
   ],
   "source": [
    "print(conversation_buffer.memory.buffer)"
   ]
  },
  {
   "cell_type": "code",
   "execution_count": 12,
   "metadata": {},
   "outputs": [],
   "source": [
    "from langchain.memory import ConversationSummaryMemory"
   ]
  },
  {
   "cell_type": "code",
   "execution_count": 24,
   "metadata": {},
   "outputs": [],
   "source": [
    "conversation_summary = ConversationChain(\n",
    "    llm=chat,\n",
    "    memory=ConversationSummaryMemory(llm=chat)\n",
    ")"
   ]
  },
  {
   "cell_type": "code",
   "execution_count": 25,
   "metadata": {},
   "outputs": [
    {
     "name": "stdout",
     "output_type": "stream",
     "text": [
      "Progressively summarize the lines of conversation provided, adding onto the previous summary returning a new summary.\n",
      "\n",
      "EXAMPLE\n",
      "Current summary:\n",
      "The human asks what the AI thinks of artificial intelligence. The AI thinks artificial intelligence is a force for good.\n",
      "\n",
      "New lines of conversation:\n",
      "Human: Why do you think artificial intelligence is a force for good?\n",
      "AI: Because artificial intelligence will help humans reach their full potential.\n",
      "\n",
      "New summary:\n",
      "The human asks what the AI thinks of artificial intelligence. The AI thinks artificial intelligence is a force for good because it will help humans reach their full potential.\n",
      "END OF EXAMPLE\n",
      "\n",
      "Current summary:\n",
      "{summary}\n",
      "\n",
      "New lines of conversation:\n",
      "{new_lines}\n",
      "\n",
      "New summary:\n"
     ]
    }
   ],
   "source": [
    "print(conversation_summary.memory.prompt.template)"
   ]
  },
  {
   "cell_type": "code",
   "execution_count": 27,
   "metadata": {},
   "outputs": [
    {
     "data": {
      "text/plain": [
       "{'input': '你知道什麼是TikTok嗎?',\n",
       " 'history': 'The human asks the AI if it knows how to quickly find a job. The AI responds affirmatively, suggesting using job search websites and platforms like LinkedIn, Indeed, and Glassdoor, building a strong professional network, attending career fairs and workshops, seeking recommendations from friends and family, as ways to accelerate the job search process. The AI hopes these tips are helpful to the human.',\n",
       " 'response': '當然知道! TikTok是一個社交媒體平台，允許用戶通過短視頻分享和觀看內容。它在全球範圍內非常受歡迎，尤其是在年輕人之間。TikTok的算法能夠根據用戶的喜好和互動來推薦有趣的視頻，使其成為一個引人入勝且具有多樣性的平台。希望這個解釋對你有幫助！'}"
      ]
     },
     "execution_count": 27,
     "metadata": {},
     "output_type": "execute_result"
    }
   ],
   "source": [
    "conversation_summary.invoke({\"input\": \"你知道什麼是TikTok嗎?\"})"
   ]
  },
  {
   "cell_type": "code",
   "execution_count": 28,
   "metadata": {},
   "outputs": [
    {
     "name": "stdout",
     "output_type": "stream",
     "text": [
      "The human asks the AI if it knows how to quickly find a job. The AI suggests using job search websites and platforms, building a professional network, attending career events, and seeking recommendations. The AI hopes these tips are helpful. The human then asks the AI if it knows what TikTok is. The AI responds affirmatively, explaining TikTok as a popular social media platform for short video sharing. The algorithm recommends videos based on user preferences, making it engaging and diverse. The AI hopes this explanation is helpful to the human.\n"
     ]
    }
   ],
   "source": [
    "print(conversation_summary.memory.buffer)"
   ]
  },
  {
   "cell_type": "code",
   "execution_count": 29,
   "metadata": {},
   "outputs": [],
   "source": [
    "from langchain.memory import ConversationBufferWindowMemory"
   ]
  },
  {
   "cell_type": "code",
   "execution_count": 31,
   "metadata": {},
   "outputs": [],
   "source": [
    "conversaction_buffer_window = ConversationChain(\n",
    "    llm=chat,\n",
    "    memory=ConversationBufferWindowMemory(k=3)\n",
    ")"
   ]
  },
  {
   "cell_type": "code",
   "execution_count": 36,
   "metadata": {},
   "outputs": [
    {
     "data": {
      "text/plain": [
       "{'input': '你知道如何做Pizza嗎?',\n",
       " 'history': 'Human: 你知道如何在Youtube上面實現畫中畫功能嗎?\\nAI: 當然，實現畫中畫功能在Youtube上非常容易。你只需要在電腦或手機上打開Youtube應用程序，然後開始播放視頻。接下來，只需點擊視頻右下角的「畫中畫」按鈕，視頻將會縮小並浮現在屏幕上的一角，讓你同時瀏覽其他內容。這樣你就可以在不間斷地觀看視頻的同時，進行其他操作或瀏覽其他內容了。希望這些步驟對你有幫助！\\nHuman: 你知道如何在Google Chrome上面添加Tab Group嗎?\\nAI: 當然，要在Google Chrome上添加Tab Group非常容易。首先，確保你的Chrome瀏覽器版本是最新的。然後，只需右鍵單擊標籤欄中的任何一個標籤，選擇「新增至新群組」，然後為這個新的群組取一個名稱。你可以像這樣添加多個群組，並為每個群組命名或為不同主題分類。這樣你就可以更有效地組織和管理你的瀏覽器標籤了。希望這個提示對你有所幫助！',\n",
       " 'response': '對不起，我不知道如何做Pizza，但是我可以幫你查找相關的食譜或教程！'}"
      ]
     },
     "execution_count": 36,
     "metadata": {},
     "output_type": "execute_result"
    }
   ],
   "source": [
    "conversaction_buffer_window.invoke({\"input\": \"你知道如何做Pizza嗎?\"})"
   ]
  }
 ],
 "metadata": {
  "kernelspec": {
   "display_name": ".venv",
   "language": "python",
   "name": "python3"
  },
  "language_info": {
   "codemirror_mode": {
    "name": "ipython",
    "version": 3
   },
   "file_extension": ".py",
   "mimetype": "text/x-python",
   "name": "python",
   "nbconvert_exporter": "python",
   "pygments_lexer": "ipython3",
   "version": "3.9.6"
  }
 },
 "nbformat": 4,
 "nbformat_minor": 2
}
