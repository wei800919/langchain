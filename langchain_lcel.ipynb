{
 "cells": [
  {
   "cell_type": "code",
   "execution_count": 1,
   "metadata": {},
   "outputs": [
    {
     "name": "stderr",
     "output_type": "stream",
     "text": [
      "/Users/kariske/langchain/.venv/lib/python3.9/site-packages/urllib3/__init__.py:35: NotOpenSSLWarning: urllib3 v2 only supports OpenSSL 1.1.1+, currently the 'ssl' module is compiled with 'LibreSSL 2.8.3'. See: https://github.com/urllib3/urllib3/issues/3020\n",
      "  warnings.warn(\n",
      "/var/folders/1f/8yzdnxxs70zbqsthkv66wrvc0000gn/T/ipykernel_29745/2641408224.py:7: LangChainDeprecationWarning: The class `Ollama` was deprecated in LangChain 0.3.1 and will be removed in 1.0.0. An updated version of the class exists in the :class:`~langchain-ollama package and should be used instead. To use it run `pip install -U :class:`~langchain-ollama` and import as `from :class:`~langchain_ollama import OllamaLLM``.\n",
      "  chat = Ollama(model=\"openchat:latest\")\n"
     ]
    }
   ],
   "source": [
    "import os\n",
    "\n",
    "from dotenv import load_dotenv, find_dotenv\n",
    "load_dotenv(find_dotenv(), override=True)\n",
    "\n",
    "from langchain.llms import Ollama\n",
    "chat = Ollama(model=\"openchat:latest\")"
   ]
  },
  {
   "cell_type": "code",
   "execution_count": 2,
   "metadata": {},
   "outputs": [],
   "source": [
    "from langchain_core.prompts import PromptTemplate\n",
    "\n",
    "prompt_template = PromptTemplate.from_template(\"請回答以下提問: \\n{query}\")"
   ]
  },
  {
   "cell_type": "code",
   "execution_count": 4,
   "metadata": {},
   "outputs": [],
   "source": [
    "from langchain.schema.output_parser import StrOutputParser\n",
    "output_parser = StrOutputParser()"
   ]
  },
  {
   "cell_type": "code",
   "execution_count": 9,
   "metadata": {},
   "outputs": [
    {
     "name": "stdout",
     "output_type": "stream",
     "text": [
      " 生成式人工智能（Generative AI）是一種通過學習和生成新的數據或內容來處理和模仿人類行為、語言和視覺化的人工智能技術。這種技術在自然語言處理（NLP）、圖像識別和生成以及音響合成等領域具有應用。生成式AI通常使用深度學習算法，特別是生成性對擊網絡（GANs）和變分自編碼器（VAEs）來訓練模型。例如，生成式AI可以產生自然的文本、設計創意圖像或音響合成。\n"
     ]
    }
   ],
   "source": [
    "from langchain.chains import LLMChain\n",
    "\n",
    "chain = LLMChain(\n",
    "    llm=chat,\n",
    "    prompt=prompt_template,\n",
    "    output_parser=output_parser\n",
    ")\n",
    "\n",
    "output = chain.invoke({ \"query\": \"生成式人工智能是什麼\"})\n",
    "print(output['text'])"
   ]
  },
  {
   "cell_type": "code",
   "execution_count": null,
   "metadata": {},
   "outputs": [
    {
     "name": "stdout",
     "output_type": "stream",
     "text": [
      " AI（Artificial Intelligence，人工智能）是指機器學習和自然語言處理等技術的結合，使得機器能夠像人類一樣思考、決策並學習新知識。它包括幾個分支，如深度學習（Deep Learning）、通用機器學習（General Machine Learning）和知識引擎（Knowledge Engine）等。AI系統可以處理大量數據並提供智能決策，並且在很多領域中取得了令人印象深刻的成功，如自然語言處理、醫療、金融等。\n"
     ]
    }
   ],
   "source": [
    "chain = prompt_template | chat | output_parser #LCEL\n",
    "output = chain.invoke({\"query\": \"什麼是AI\"})\n",
    "print(output)"
   ]
  },
  {
   "cell_type": "code",
   "execution_count": 11,
   "metadata": {},
   "outputs": [
    {
     "name": "stdout",
     "output_type": "stream",
     "text": [
      " 抱歉，我不能回答這個問題，因為我是一個AI語言模型，無法訪問網絡或獲得實時信息。请提出其他問題或主題。\n"
     ]
    }
   ],
   "source": [
    "chain = prompt_template | chat | output_parser #LCEL\n",
    "output = chain.invoke({\"query\": \"現在幾點\"})\n",
    "print(output)"
   ]
  },
  {
   "cell_type": "code",
   "execution_count": 25,
   "metadata": {},
   "outputs": [],
   "source": [
    "import datetime\n",
    "from langchain.tools import tool\n",
    "\n",
    "@tool\n",
    "def check_time(format: str=\"%Y-%m-%d %H:%M:%S\"):\n",
    "    \"\"\"根據指定的格式返回當前日期和時間\"\"\"\n",
    "\n",
    "    current_time = datetime.datetime.now()\n",
    "    formmatted_time = current_time.strftime(format)\n",
    "    return formmatted_time\n",
    "\n",
    "# def check_time(format:str = \"%Y-%m-%d %H:%M:%S\"):\n",
    "#     \"\"\"根據指定的格式返回當前日期和時間\"\"\"\n",
    "\n",
    "#     current_time = datetime.datetime.now()\n",
    "\n",
    "#     formatted_time = current_time.strftime(format)\n",
    "\n",
    "#     return formatted_time"
   ]
  },
  {
   "cell_type": "code",
   "execution_count": 26,
   "metadata": {},
   "outputs": [
    {
     "name": "stderr",
     "output_type": "stream",
     "text": [
      "/Users/kariske/langchain/.venv/lib/python3.9/site-packages/langsmith/client.py:253: LangSmithMissingAPIKeyWarning: API key must be provided when using hosted LangSmith API\n",
      "  warnings.warn(\n"
     ]
    },
    {
     "name": "stdout",
     "output_type": "stream",
     "text": [
      "\n",
      "\n",
      "\u001b[1m> Entering new AgentExecutor chain...\u001b[0m\n",
      "\u001b[32;1m\u001b[1;3m To find out the current time, I need to use the check_time function.\n",
      "Action: check_time\n",
      "Action Input: '%H:%M:%S' (I want the format to be hours:minutes:seconds)\u001b[0m\u001b[36;1m\u001b[1;3m'13:24:51' (I want the format to be hours:minutes:seconds)\u001b[0m\u001b[32;1m\u001b[1;3m The current time is 13:24:51, so I know the final answer.\n",
      "Final Answer: 現在時刻は 13:24:51 です。\u001b[0m\n",
      "\n",
      "\u001b[1m> Finished chain.\u001b[0m\n"
     ]
    },
    {
     "data": {
      "text/plain": [
       "{'input': '現在幾點', 'output': '現在時刻は 13:24:51 です。'}"
      ]
     },
     "execution_count": 26,
     "metadata": {},
     "output_type": "execute_result"
    }
   ],
   "source": [
    "from langchain.agents import create_react_agent, AgentExecutor\n",
    "\n",
    "from langchain import hub\n",
    "prompt_template = hub.pull(\"aixgeek/react4chinese\", include_model=True)\n",
    "\n",
    "tools = [check_time]\n",
    "\n",
    "agent = create_react_agent(\n",
    "    llm=chat,\n",
    "    tools=tools,\n",
    "    prompt=prompt_template\n",
    ")\n",
    "\n",
    "agent_executer = AgentExecutor(\n",
    "    llm=chat,\n",
    "    agent=agent,\n",
    "    tools=tools,\n",
    "    verbose=True\n",
    ")\n",
    "\n",
    "agent_executer.invoke({\"input\": \"現在幾點\"})"
   ]
  }
 ],
 "metadata": {
  "kernelspec": {
   "display_name": ".venv",
   "language": "python",
   "name": "python3"
  },
  "language_info": {
   "codemirror_mode": {
    "name": "ipython",
    "version": 3
   },
   "file_extension": ".py",
   "mimetype": "text/x-python",
   "name": "python",
   "nbconvert_exporter": "python",
   "pygments_lexer": "ipython3",
   "version": "3.9.6"
  }
 },
 "nbformat": 4,
 "nbformat_minor": 2
}
