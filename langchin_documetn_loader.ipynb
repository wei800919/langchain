{
 "cells": [
  {
   "cell_type": "code",
   "execution_count": 1,
   "metadata": {},
   "outputs": [
    {
     "name": "stderr",
     "output_type": "stream",
     "text": [
      "/Users/kariske/langchain/.venv/lib/python3.9/site-packages/urllib3/__init__.py:35: NotOpenSSLWarning: urllib3 v2 only supports OpenSSL 1.1.1+, currently the 'ssl' module is compiled with 'LibreSSL 2.8.3'. See: https://github.com/urllib3/urllib3/issues/3020\n",
      "  warnings.warn(\n"
     ]
    }
   ],
   "source": [
    "import os\n",
    "\n",
    "from dotenv import load_dotenv, find_dotenv\n",
    "load_dotenv(find_dotenv(), override=True)\n",
    "\n",
    "from langchain_openai import ChatOpenAI\n",
    "\n",
    "chat = ChatOpenAI(\n",
    "    openai_api_key=os.environ.get('OPENAI_API_KEY'),\n",
    "    openai_api_base=os.environ.get('CHATGPT_API_ENDPOINT')   \n",
    ")"
   ]
  },
  {
   "cell_type": "code",
   "execution_count": 3,
   "metadata": {},
   "outputs": [],
   "source": [
    "from langchain.document_loaders import PyPDFLoader"
   ]
  },
  {
   "cell_type": "code",
   "execution_count": 6,
   "metadata": {},
   "outputs": [],
   "source": [
    "loader = PyPDFLoader(\"ML-guide.pdf\")\n",
    "pages = loader.load()"
   ]
  },
  {
   "cell_type": "code",
   "execution_count": 8,
   "metadata": {},
   "outputs": [
    {
     "data": {
      "text/plain": [
       "22"
      ]
     },
     "execution_count": 8,
     "metadata": {},
     "output_type": "execute_result"
    }
   ],
   "source": [
    "len(pages)"
   ]
  },
  {
   "cell_type": "code",
   "execution_count": null,
   "metadata": {},
   "outputs": [
    {
     "name": "stdout",
     "output_type": "stream",
     "text": [
      "MachineLearning-Lecture01  \n",
      "Instructor (Andrew Ng): Okay. Good morning. Welcome to CS229, the machine \n",
      "learning class. So what I wanna do today is just spend a little time going over the logistics \n",
      "of the class, and then we'll start to talk a bit about machine learning.  \n",
      "By way of introduction, my name's Andrew Ng and I'll be instructor for this class. And so \n",
      "I personally work in machine learning, and I've worked on it for about 15 years now, and \n",
      "I actually think that machine learning is the most exciting field of all the computer \n",
      "sciences. So I'm actually always excited about teaching this class. Sometimes I actually \n",
      "think that machine learning is not only the most exciting thing in computer science, but \n",
      "the most exciting thing in all of human endeavor, so maybe a little bias there.  \n",
      "I also want to introduce the TAs, who are all graduate students doing research in or \n",
      "related to the machine learning and all aspects of machine learning. Paul Baumstarck \n",
      "works in machine learning\n"
     ]
    }
   ],
   "source": [
    "page1 = pages[0]\n",
    "print(page1.page_content[:1000])"
   ]
  },
  {
   "cell_type": "code",
   "execution_count": 13,
   "metadata": {},
   "outputs": [
    {
     "data": {
      "text/plain": [
       "{'producer': 'macOS 版本14.4.1（版號23E224） Quartz PDFContext, AppendMode 1.1',\n",
       " 'creator': 'PScript5.dll Version 5.2.2',\n",
       " 'creationdate': \"D:20080711182523Z00'00'\",\n",
       " 'author': '',\n",
       " 'moddate': \"D:20240507002523Z00'00'\",\n",
       " 'title': '',\n",
       " 'source': 'ML-guide.pdf',\n",
       " 'total_pages': 22,\n",
       " 'page': 0,\n",
       " 'page_label': '1'}"
      ]
     },
     "execution_count": 13,
     "metadata": {},
     "output_type": "execute_result"
    }
   ],
   "source": [
    "page1.metadata"
   ]
  },
  {
   "cell_type": "code",
   "execution_count": 14,
   "metadata": {},
   "outputs": [
    {
     "name": "stderr",
     "output_type": "stream",
     "text": [
      "USER_AGENT environment variable not set, consider setting it to identify your requests.\n"
     ]
    }
   ],
   "source": [
    "from langchain.document_loaders import WebBaseLoader"
   ]
  },
  {
   "cell_type": "code",
   "execution_count": 15,
   "metadata": {},
   "outputs": [],
   "source": [
    "web_base_loader = WebBaseLoader(\"https://google.com\")\n",
    "pages = web_base_loader.load()"
   ]
  },
  {
   "cell_type": "code",
   "execution_count": 17,
   "metadata": {},
   "outputs": [
    {
     "name": "stdout",
     "output_type": "stream",
     "text": [
      "Google搜尋 圖片 地圖 Play YouTube 新聞 Gmail 雲端硬碟 更多 »網頁記錄 | 設定 | 登入 進階搜尋Google 提供：  English 廣告商業解決方案關於 GoogleGoogle.com.tw© 2025 - 隱私權 - 服務條款   \n"
     ]
    }
   ],
   "source": [
    "print(pages[0].page_content)"
   ]
  },
  {
   "cell_type": "code",
   "execution_count": 18,
   "metadata": {},
   "outputs": [
    {
     "name": "stdout",
     "output_type": "stream",
     "text": [
      "{\"searchParameters\":{\"q\":\"apple inc\",\"type\":\"search\",\"engine\":\"google\"},\"knowledgeGraph\":{\"title\":\"Apple\",\"type\":\"Technology company\",\"website\":\"http://www.apple.com/\",\"imageUrl\":\"https://encrypted-tbn0.gstatic.com/images?q=tbn:ANd9GcT5ITHsQzdzkkFWKinRe1Y4FUbC_Vy3R_M&s=0\",\"description\":\"Apple Inc. is an American multinational corporation and technology company headquartered in Cupertino, California, in Silicon Valley. It is best known for its consumer electronics, software, and services.\",\"descriptionSource\":\"Wikipedia\",\"descriptionLink\":\"https://en.wikipedia.org/wiki/Apple_Inc.\",\"attributes\":{\"Customer service\":\"1 (800) 275-2273\",\"Founders\":\"Steve Jobs, Steve Wozniak, and Ronald Wayne\",\"Founded\":\"April 1, 1976, Los Altos, CA\",\"CEO\":\"Tim Cook (Aug 24, 2011–)\",\"Headquarters\":\"Cupertino, CA\"}},\"organic\":[{\"title\":\"Apple\",\"link\":\"https://www.apple.com/\",\"snippet\":\"Discover the innovative world of Apple and shop everything iPhone, iPad, Apple Watch, Mac, and Apple TV, plus explore accessories, entertainment, ...\",\"sitelinks\":[{\"title\":\"Career Opportunities\",\"link\":\"https://www.apple.com/careers/us/\"},{\"title\":\"Support\",\"link\":\"https://support.apple.com/\"},{\"title\":\"Investor Relations\",\"link\":\"https://investor.apple.com/investor-relations/default.aspx\"},{\"title\":\"Mac\",\"link\":\"https://www.apple.com/mac/\"},{\"title\":\"Apple Leadership\",\"link\":\"https://www.apple.com/leadership/\"}],\"position\":1},{\"title\":\"Apple Inc. - Wikipedia\",\"link\":\"https://en.wikipedia.org/wiki/Apple_Inc.\",\"snippet\":\"It is best known for its consumer electronics, software, and services. Founded in 1976 as Apple Computer Company by Steve Jobs, Steve Wozniak and Ronald Wayne, ...\",\"position\":2},{\"title\":\"Apple Inc. (AAPL) Company Profile & Facts - Yahoo Finance\",\"link\":\"https://finance.yahoo.com/quote/AAPL/profile/\",\"snippet\":\"Apple Inc. designs, manufactures, and markets smartphones, personal computers, tablets, wearables, and accessories worldwide. The company offers iPhone, a line ...\",\"position\":3},{\"title\":\"Apple Inc. | History, Products, Headquarters, & Facts - Britannica\",\"link\":\"https://www.britannica.com/money/Apple-Inc\",\"snippet\":\"Apple Inc. is an American multinational technology company that revolutionized the technology sector through its innovation of computer software, ...\",\"position\":4},{\"title\":\"Apple Inc. (AAPL) Stock Price Today - WSJ\",\"link\":\"https://www.wsj.com/market-data/quotes/AAPL\",\"snippet\":\"Apple Inc. engages in the design, manufacture, and sale of smartphones, personal computers, tablets, wearables and accessories, and other varieties of related ...\",\"position\":5},{\"title\":\"AAPL: Apple Inc Stock Price Quote - NASDAQ GS - Bloomberg\",\"link\":\"https://www.bloomberg.com/quote/AAPL:US\",\"snippet\":\"Stock analysis for Apple Inc (AAPL:NASDAQ GS) including stock price, stock chart, company news, key statistics, fundamentals and company profile.\",\"position\":6}],\"topStories\":[{\"title\":\"Is Apple Inc. (AAPL) a Stock That Members of Congress Own?\",\"link\":\"https://finance.yahoo.com/news/apple-inc-aapl-stock-members-235102091.html\",\"source\":\"Yahoo Finance\",\"date\":\"6 hours ago\"},{\"title\":\"Apple Inc. (AAPL): “Own Apple, Don’t Trade It – But It’s Going Lower!” – Jim Cramer’s Candid Warning\",\"link\":\"https://finance.yahoo.com/news/apple-inc-aapl-own-apple-134803054.html\",\"source\":\"Yahoo Finance\",\"date\":\"16 hours ago\"},{\"title\":\"The world’s most valuable tech company has a problem it can’t easily solve\",\"link\":\"https://www.cnn.com/2025/03/19/tech/apple-iphone-siri-delay/index.html\",\"source\":\"CNN\",\"date\":\"16 hours ago\"}],\"peopleAlsoAsk\":[{\"question\":\"What is Apple Inc stand for?\",\"snippet\":\"Founded in 1976 as Apple Computer Company by Steve Jobs, Steve Wozniak and Ronald Wayne, the company was incorporated by Jobs and Wozniak as Apple Computer, Inc. the following year. It was renamed Apple Inc. in 2007 as the company had expanded its focus from computers to consumer electronics.\",\"title\":\"Apple Inc. - Wikipedia\",\"link\":\"https://en.wikipedia.org/wiki/Apple_Inc.\"},{\"question\":\"Who is the CEO of Apple Inc.?\",\"snippet\":\"Tim Cook is the CEO of Apple and serves on its board of directors.\",\"title\":\"Tim Cook - Apple Leadership\",\"link\":\"https://www.apple.com/in/leadership/tim-cook/\"},{\"question\":\"What is Apple Inc. best known for?\",\"snippet\":\"Apple Inc. (formerly Apple Computer Inc.) is an American computer and consumer electronics company famous for creating the iPhone, iPad and Macintosh computers. Apple is one of the largest companies globally with a market cap of more than $3 trillion.\",\"title\":\"What is Apple? An products and history overview - TechTarget\",\"link\":\"https://www.techtarget.com/whatis/definition/Apple\"}],\"relatedSearches\":[{\"query\":\"Google\"},{\"query\":\"apple inc คืออะไร\"},{\"query\":\"Apple Inc full form\"},{\"query\":\"Apple Inc address\"},{\"query\":\"Apple Inc website\"},{\"query\":\"Apple Inc industry\"},{\"query\":\"Apple Inc careers\"},{\"query\":\"Apple Inc net worth\"}],\"credits\":1}\n"
     ]
    }
   ],
   "source": [
    "import requests\n",
    "import json\n",
    "\n",
    "url = \"https://google.serper.dev/search\"\n",
    "\n",
    "payload = json.dumps({\n",
    "  \"q\": \"apple inc\"\n",
    "})\n",
    "headers = {\n",
    "  'X-API-KEY': 'f56b7e0bde77d4dcfcf2fdc976e43dae610bf344',\n",
    "  'Content-Type': 'application/json'\n",
    "}\n",
    "\n",
    "response = requests.request(\"POST\", url, headers=headers, data=payload)\n",
    "\n",
    "print(response.text)"
   ]
  }
 ],
 "metadata": {
  "kernelspec": {
   "display_name": ".venv",
   "language": "python",
   "name": "python3"
  },
  "language_info": {
   "codemirror_mode": {
    "name": "ipython",
    "version": 3
   },
   "file_extension": ".py",
   "mimetype": "text/x-python",
   "name": "python",
   "nbconvert_exporter": "python",
   "pygments_lexer": "ipython3",
   "version": "3.9.6"
  }
 },
 "nbformat": 4,
 "nbformat_minor": 2
}
