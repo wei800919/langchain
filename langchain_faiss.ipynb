{
 "cells": [
  {
   "cell_type": "code",
   "execution_count": 1,
   "metadata": {},
   "outputs": [
    {
     "name": "stderr",
     "output_type": "stream",
     "text": [
      "/Users/kariske/langchain/.venv/lib/python3.9/site-packages/urllib3/__init__.py:35: NotOpenSSLWarning: urllib3 v2 only supports OpenSSL 1.1.1+, currently the 'ssl' module is compiled with 'LibreSSL 2.8.3'. See: https://github.com/urllib3/urllib3/issues/3020\n",
      "  warnings.warn(\n"
     ]
    }
   ],
   "source": [
    "import os\n",
    "\n",
    "from dotenv import load_dotenv, find_dotenv\n",
    "load_dotenv(find_dotenv(), override=True)\n",
    "\n",
    "from langchain_openai import ChatOpenAI\n",
    "\n",
    "chat = ChatOpenAI(\n",
    "    openai_api_key=os.environ.get('OPENAI_API_KEY'),\n",
    "    openai_api_base=os.environ.get('CHATGPT_API_ENDPOINT')   \n",
    ")"
   ]
  },
  {
   "cell_type": "code",
   "execution_count": 2,
   "metadata": {},
   "outputs": [
    {
     "data": {
      "text/plain": [
       "109"
      ]
     },
     "execution_count": 2,
     "metadata": {},
     "output_type": "execute_result"
    }
   ],
   "source": [
    "from langchain.document_loaders import PyPDFLoader\n",
    "\n",
    "loaders = [\n",
    "    PyPDFLoader(\"docs/01.pdf\"),\n",
    "    PyPDFLoader(\"docs/02.pdf\"),\n",
    "    PyPDFLoader(\"docs/03.pdf\"),\n",
    "    PyPDFLoader(\"docs/04.pdf\")\n",
    "]\n",
    "\n",
    "docs = []\n",
    "\n",
    "for loader in loaders:\n",
    "    docs.extend(loader.load())\n",
    "\n",
    "from langchain.text_splitter import RecursiveCharacterTextSplitter\n",
    "\n",
    "text_splitter = RecursiveCharacterTextSplitter(\n",
    "    chunk_size=1000,\n",
    "    chunk_overlap=100,\n",
    "    length_function=len,\n",
    "    separators=[\"\\n\\n\", \"\\n\", \" \", \"\"]\n",
    ")\n",
    "\n",
    "chunks = text_splitter.split_documents(docs)\n",
    "\n",
    "len(chunks)    "
   ]
  },
  {
   "cell_type": "code",
   "execution_count": 3,
   "metadata": {},
   "outputs": [],
   "source": [
    "from langchain_openai import OpenAIEmbeddings\n",
    "\n",
    "embeddings = OpenAIEmbeddings(\n",
    "    base_url=os.environ.get('CHATGPT_API_ENDPOINT')\n",
    ")"
   ]
  },
  {
   "cell_type": "code",
   "execution_count": 4,
   "metadata": {},
   "outputs": [
    {
     "name": "stderr",
     "output_type": "stream",
     "text": [
      "/var/folders/1f/8yzdnxxs70zbqsthkv66wrvc0000gn/T/ipykernel_29517/521122253.py:2: LangChainDeprecationWarning: The class `Ollama` was deprecated in LangChain 0.3.1 and will be removed in 1.0.0. An updated version of the class exists in the :class:`~langchain-ollama package and should be used instead. To use it run `pip install -U :class:`~langchain-ollama` and import as `from :class:`~langchain_ollama import OllamaLLM``.\n",
      "  chat = Ollama(model=\"openchat:latest\")\n"
     ]
    }
   ],
   "source": [
    "from langchain.llms import Ollama\n",
    "chat = Ollama(model=\"openchat:latest\")"
   ]
  },
  {
   "cell_type": "code",
   "execution_count": 5,
   "metadata": {},
   "outputs": [],
   "source": [
    "from langchain.vectorstores import  FAISS\n",
    "\n",
    "faissVectorDb = FAISS.from_documents(docs, embeddings)"
   ]
  },
  {
   "cell_type": "code",
   "execution_count": 6,
   "metadata": {},
   "outputs": [
    {
     "data": {
      "text/plain": [
       "'1110\\n小店美食\\n13  添好運點心專門店\\n全球最便宜的米芝蓮星級餐廳之一，雖然在台\\n灣已經開了多間分店，但要品嚐正港風味的點\\n心，還是要到本地的街坊小店。菜單上的選擇\\n或許不如茶樓多，但價格親民，招牌點心酥皮\\n焗叉燒包，保證讓人一試愛上。\\n地址：深水埗福榮街9至11號 \\n電話：+852 2788 1226\\n網址：www.timhowan.com.hk\\n14  新香園\\n來到這家老字號茶餐廳，必吃'"
      ]
     },
     "execution_count": 6,
     "metadata": {},
     "output_type": "execute_result"
    }
   ],
   "source": [
    "query = \"在香港有什麼美味的食物？ 如果有，請給出該店的地址\"\n",
    "\n",
    "docs = faissVectorDb.similarity_search(query)\n",
    "\n",
    "docs[0].page_content[:200]"
   ]
  },
  {
   "cell_type": "code",
   "execution_count": 7,
   "metadata": {},
   "outputs": [],
   "source": [
    "from langchain.chains import RetrievalQA"
   ]
  },
  {
   "cell_type": "code",
   "execution_count": 8,
   "metadata": {},
   "outputs": [],
   "source": [
    "retriever = faissVectorDb.as_retriever()"
   ]
  },
  {
   "cell_type": "code",
   "execution_count": 9,
   "metadata": {},
   "outputs": [],
   "source": [
    "model = RetrievalQA.from_chain_type(\n",
    "    retriever=retriever,\n",
    "    llm=chat,\n",
    "    chain_type=\"stuff\",\n",
    "    verbose=True\n",
    ")"
   ]
  },
  {
   "cell_type": "code",
   "execution_count": 10,
   "metadata": {},
   "outputs": [
    {
     "name": "stderr",
     "output_type": "stream",
     "text": [
      "/var/folders/1f/8yzdnxxs70zbqsthkv66wrvc0000gn/T/ipykernel_29517/3637550833.py:1: LangChainDeprecationWarning: The method `Chain.__call__` was deprecated in langchain 0.1.0 and will be removed in 1.0. Use :meth:`~invoke` instead.\n",
      "  response = model(\n"
     ]
    },
    {
     "name": "stdout",
     "output_type": "stream",
     "text": [
      "\n",
      "\n",
      "\u001b[1m> Entering new RetrievalQA chain...\u001b[0m\n",
      "\n",
      "\u001b[1m> Finished chain.\u001b[0m\n",
      " 在香港，有很多美味的食物。以下是一些建議：\n",
      "\n",
      "1. 蘇記車仔麵 - 深水埗福榮街109、111-117E、121及123C號。\n",
      "2. 文記車仔麵 - 同一條街的三家店位於深水埗福榮街109、111-117E、121及123C號。\n",
      "3. 飛鷹餐廳 - 深水埗荔枝角道256號。\n",
      "4. 綠林甜品 - 深水埗元州街77至79號。\n",
      "\n",
      "這些店家提供了傳統和新型的香港美食，如車仔麵、牛排、湯頭、甜點等。\n"
     ]
    }
   ],
   "source": [
    "response = model(\n",
    "    { \"query\": query },\n",
    "    return_only_outputs=True\n",
    ")\n",
    "print(response[\"result\"])"
   ]
  },
  {
   "cell_type": "markdown",
   "metadata": {},
   "source": [
    "如何保存和加載FAISS"
   ]
  },
  {
   "cell_type": "code",
   "execution_count": 11,
   "metadata": {},
   "outputs": [],
   "source": [
    "!rm -rf ./db"
   ]
  },
  {
   "cell_type": "code",
   "execution_count": 38,
   "metadata": {},
   "outputs": [],
   "source": [
    "persist_directory = \"./db\"\n",
    "\n",
    "faissVectorDb.save_local(persist_directory)\n",
    "\n",
    "localdb = FAISS.load_local(\n",
    "    folder_path=persist_directory,\n",
    "    embeddings=embeddings,\n",
    "    allow_dangerous_deserialization=True\n",
    ")"
   ]
  },
  {
   "cell_type": "markdown",
   "metadata": {},
   "source": [
    "查看FAISS VectorDb的內容"
   ]
  },
  {
   "cell_type": "code",
   "execution_count": 13,
   "metadata": {},
   "outputs": [],
   "source": [
    "import pandas as pd"
   ]
  },
  {
   "cell_type": "code",
   "execution_count": 65,
   "metadata": {},
   "outputs": [
    {
     "data": {
      "text/html": [
       "<div>\n",
       "<style scoped>\n",
       "    .dataframe tbody tr th:only-of-type {\n",
       "        vertical-align: middle;\n",
       "    }\n",
       "\n",
       "    .dataframe tbody tr th {\n",
       "        vertical-align: top;\n",
       "    }\n",
       "\n",
       "    .dataframe thead th {\n",
       "        text-align: right;\n",
       "    }\n",
       "</style>\n",
       "<table border=\"1\" class=\"dataframe\">\n",
       "  <thead>\n",
       "    <tr style=\"text-align: right;\">\n",
       "      <th></th>\n",
       "      <th>chunk_id</th>\n",
       "      <th>doc_name</th>\n",
       "      <th>page_number</th>\n",
       "      <th>page_content</th>\n",
       "    </tr>\n",
       "  </thead>\n",
       "  <tbody>\n",
       "    <tr>\n",
       "      <th>0</th>\n",
       "      <td>2aed02b6-0cbf-4013-8440-3cfa4277a67a</td>\n",
       "      <td>01.pdf</td>\n",
       "      <td>1</td>\n",
       "      <td>衝\\n一\\n波\\n$\u0014\u0019\u0012\u000e$07&amp;3\u000e\u0013\u0011\u0013\u0015\u000fJOEE\u0001\u0001\u0001\u0015$\u0014\u0019\u0012\u000e$07&amp;3\u000e\u0013\u0011...</td>\n",
       "    </tr>\n",
       "    <tr>\n",
       "      <th>1</th>\n",
       "      <td>a4133326-b13e-42fe-a7a3-7dd6bf650dfd</td>\n",
       "      <td>01.pdf</td>\n",
       "      <td>2</td>\n",
       "      <td>網路報導專區\\n下載PDF手冊\\n閱讀\\n動態電子書\\n23　中　環\\t 蘭桂坊Bar Ho...</td>\n",
       "    </tr>\n",
       "    <tr>\n",
       "      <th>2</th>\n",
       "      <td>8514b71e-1d5f-4c34-90d3-5bbd99fd06c6</td>\n",
       "      <td>01.pdf</td>\n",
       "      <td>3</td>\n",
       "      <td>04\\n地址：香港九龍太子砵蘭街418號地下 電話：＋852-2392-9283\\n營業時間...</td>\n",
       "    </tr>\n",
       "    <tr>\n",
       "      <th>3</th>\n",
       "      <td>1220f9a9-178e-4894-bbbf-c2726c5ee5c1</td>\n",
       "      <td>01.pdf</td>\n",
       "      <td>4</td>\n",
       "      <td>06\\n地址：香港九龍旺角通菜街1A-1L 威達 Deli2商業大廈1字樓 B 舖 電話：＋...</td>\n",
       "    </tr>\n",
       "    <tr>\n",
       "      <th>4</th>\n",
       "      <td>7ef97d1e-2612-4073-b51e-07da9f4f6698</td>\n",
       "      <td>01.pdf</td>\n",
       "      <td>5</td>\n",
       "      <td>08\\n地址：香港銅鑼灣謝斐道477-481號肇明大廈地下及1樓 A 室 電話：＋852-2...</td>\n",
       "    </tr>\n",
       "    <tr>\n",
       "      <th>...</th>\n",
       "      <td>...</td>\n",
       "      <td>...</td>\n",
       "      <td>...</td>\n",
       "      <td>...</td>\n",
       "    </tr>\n",
       "    <tr>\n",
       "      <th>83</th>\n",
       "      <td>327de8f1-dde2-413c-95ea-46657d115137</td>\n",
       "      <td>04.pdf</td>\n",
       "      <td>25</td>\n",
       "      <td>4746\\n添好運點心專門店 \\np.11\\n寶華扎作 \\np.34\\n汝州街 \\n（珠仔街...</td>\n",
       "    </tr>\n",
       "    <tr>\n",
       "      <th>84</th>\n",
       "      <td>47ae1904-9a4d-41d1-a726-be047b871b2a</td>\n",
       "      <td>04.pdf</td>\n",
       "      <td>26</td>\n",
       "      <td>4948\\n 4948\\nDoughnut  \\np.9\\n福榮街 \\np.31\\n合益泰小...</td>\n",
       "    </tr>\n",
       "    <tr>\n",
       "      <th>85</th>\n",
       "      <td>5955aed7-927a-426b-95fb-77ed771b6bee</td>\n",
       "      <td>04.pdf</td>\n",
       "      <td>27</td>\n",
       "      <td>5150\\n福榮街 \\np.31\\n公和荳品廠 \\np.10\\n1\\n2\\n3\\n汝州街 \\...</td>\n",
       "    </tr>\n",
       "    <tr>\n",
       "      <th>86</th>\n",
       "      <td>0167bad6-7384-4c2a-9135-78c7e315a8aa</td>\n",
       "      <td>04.pdf</td>\n",
       "      <td>28</td>\n",
       "      <td>香港旅遊發展局旅客服務\\nHONG KONG TRAVEL BUDDY \\n歡迎旅客掃描QR...</td>\n",
       "    </tr>\n",
       "    <tr>\n",
       "      <th>87</th>\n",
       "      <td>a7452794-50d4-4433-bc54-ad4d3f4945ed</td>\n",
       "      <td>04.pdf</td>\n",
       "      <td>29</td>\n",
       "      <td></td>\n",
       "    </tr>\n",
       "  </tbody>\n",
       "</table>\n",
       "<p>88 rows × 4 columns</p>\n",
       "</div>"
      ],
      "text/plain": [
       "                                chunk_id doc_name  page_number  \\\n",
       "0   2aed02b6-0cbf-4013-8440-3cfa4277a67a   01.pdf            1   \n",
       "1   a4133326-b13e-42fe-a7a3-7dd6bf650dfd   01.pdf            2   \n",
       "2   8514b71e-1d5f-4c34-90d3-5bbd99fd06c6   01.pdf            3   \n",
       "3   1220f9a9-178e-4894-bbbf-c2726c5ee5c1   01.pdf            4   \n",
       "4   7ef97d1e-2612-4073-b51e-07da9f4f6698   01.pdf            5   \n",
       "..                                   ...      ...          ...   \n",
       "83  327de8f1-dde2-413c-95ea-46657d115137   04.pdf           25   \n",
       "84  47ae1904-9a4d-41d1-a726-be047b871b2a   04.pdf           26   \n",
       "85  5955aed7-927a-426b-95fb-77ed771b6bee   04.pdf           27   \n",
       "86  0167bad6-7384-4c2a-9135-78c7e315a8aa   04.pdf           28   \n",
       "87  a7452794-50d4-4433-bc54-ad4d3f4945ed   04.pdf           29   \n",
       "\n",
       "                                         page_content  \n",
       "0   衝\\n一\\n波\\n$\u0014\u0019\u0012\u000e$07&3\u000e\u0013\u0011\u0013\u0015\u000fJOEE\u0001\u0001\u0001\u0015$\u0014\u0019\u0012\u000e$07&3\u000e\u0013\u0011...  \n",
       "1   網路報導專區\\n下載PDF手冊\\n閱讀\\n動態電子書\\n23　中　環\\t 蘭桂坊Bar Ho...  \n",
       "2   04\\n地址：香港九龍太子砵蘭街418號地下 電話：＋852-2392-9283\\n營業時間...  \n",
       "3   06\\n地址：香港九龍旺角通菜街1A-1L 威達 Deli2商業大廈1字樓 B 舖 電話：＋...  \n",
       "4   08\\n地址：香港銅鑼灣謝斐道477-481號肇明大廈地下及1樓 A 室 電話：＋852-2...  \n",
       "..                                                ...  \n",
       "83  4746\\n添好運點心專門店 \\np.11\\n寶華扎作 \\np.34\\n汝州街 \\n（珠仔街...  \n",
       "84  4948\\n 4948\\nDoughnut  \\np.9\\n福榮街 \\np.31\\n合益泰小...  \n",
       "85  5150\\n福榮街 \\np.31\\n公和荳品廠 \\np.10\\n1\\n2\\n3\\n汝州街 \\...  \n",
       "86  香港旅遊發展局旅客服務\\nHONG KONG TRAVEL BUDDY \\n歡迎旅客掃描QR...  \n",
       "87                                                     \n",
       "\n",
       "[88 rows x 4 columns]"
      ]
     },
     "metadata": {},
     "output_type": "display_data"
    }
   ],
   "source": [
    "def store_to_df(vectordb):\n",
    "    v_dict = faissVectorDb.docstore._dict\n",
    "    data_rows = []\n",
    "    for k in v_dict.keys():\n",
    "        doc_name = v_dict[k].metadata[\"source\"].split(\"/\")[-1]\n",
    "        page_number = v_dict[k].metadata[\"page\"] + 1\n",
    "        page_content = v_dict[k].page_content\n",
    "        data_rows.append(\n",
    "            {\n",
    "                \"chunk_id\": k,\n",
    "                \"doc_name\": doc_name,\n",
    "                \"page_number\": page_number,\n",
    "                \"page_content\": page_content\n",
    "            }\n",
    "        )\n",
    "\n",
    "    vector_df = pd.DataFrame(data_rows)\n",
    "    return vector_df\n",
    "\n",
    "def show_vectorStore(vectordb):\n",
    "    vector_df = store_to_df(vectordb)\n",
    "    display(vector_df)\n",
    "\n",
    "show_vectorStore(localdb)"
   ]
  },
  {
   "cell_type": "markdown",
   "metadata": {},
   "source": [
    "如何刪除Vector DB中的檔案"
   ]
  },
  {
   "cell_type": "code",
   "execution_count": 40,
   "metadata": {},
   "outputs": [],
   "source": [
    "#刪除對應PDF的文檔\n",
    "def delete_document(store, document_name):\n",
    "    vector_df = store_to_df(store)\n",
    "    chunk_lists = vector_df.loc[vector_df[\"doc_name\"]==document_name][\"chunk_id\"].tolist()\n",
    "    store.delete(ids=chunk_lists)\n",
    "\n",
    "#更新向量數據庫，同時更新RetrievalQA(答問系統)\n",
    "def refresh_model(new_store):\n",
    "    retriever = new_store.as_retriever()\n",
    "    model = RetrievalQA.from_chain_type(\n",
    "        llm=chat,\n",
    "        chain_type=\"stuff\",\n",
    "        retriever=retriever,\n",
    "        verbose=True\n",
    "    )\n",
    "    return model"
   ]
  },
  {
   "cell_type": "code",
   "execution_count": 63,
   "metadata": {},
   "outputs": [
    {
     "ename": "ValueError",
     "evalue": "Some specified ids do not exist in the current store. Ids not found: {'d6ecac64-6f21-4029-9595-5ac1392d1819', '2b773050-edf7-44e3-8d98-d30c2c54861d', '2552946a-d283-4400-a940-8377c4b86792', 'a9c11743-3320-4276-8e6c-5eb1f51a2f77', 'da3c88a7-1784-443e-8b70-48bd1c53a6b5', 'd0e2b6f9-4dfe-4a19-a3f0-b66cc21aed58', '161bea2b-c5af-4166-b3aa-a9b31ebe7ea2', '1220f9a9-178e-4894-bbbf-c2726c5ee5c1', 'a3d3bce2-1539-471f-81aa-30bde8c5f3ef', '10a16c5b-1c04-4654-b28b-1931011d3249', '082904f6-ef86-4e51-8fca-d0a4ca96c6cb', '43d974df-1b8d-456d-a38b-d437132f5b3f', 'a4133326-b13e-42fe-a7a3-7dd6bf650dfd', '3d32ba34-95de-4d8d-b0d2-1a74886b074b', '7ef97d1e-2612-4073-b51e-07da9f4f6698', '8514b71e-1d5f-4c34-90d3-5bbd99fd06c6', '2aed02b6-0cbf-4013-8440-3cfa4277a67a', '0cc79b5e-a53e-41af-a2a3-55bf1e61aead', '1755041a-31ab-494b-81dc-08df5093ab19', '27413390-f656-46b8-b831-130e6897f591', '3b5d950f-ef86-4eda-93f3-f5a54f886d05', '73aa854f-0213-45c4-bf0f-5258457a927a', '335a5260-5afd-499c-91a4-d554cf277bee'}",
     "output_type": "error",
     "traceback": [
      "\u001b[0;31m---------------------------------------------------------------------------\u001b[0m",
      "\u001b[0;31mValueError\u001b[0m                                Traceback (most recent call last)",
      "Cell \u001b[0;32mIn[63], line 1\u001b[0m\n\u001b[0;32m----> 1\u001b[0m \u001b[43mdelete_document\u001b[49m\u001b[43m(\u001b[49m\u001b[43mlocaldb\u001b[49m\u001b[43m,\u001b[49m\u001b[43m \u001b[49m\u001b[38;5;124;43m\"\u001b[39;49m\u001b[38;5;124;43m01.pdf\u001b[39;49m\u001b[38;5;124;43m\"\u001b[39;49m\u001b[43m)\u001b[49m\n",
      "Cell \u001b[0;32mIn[40], line 5\u001b[0m, in \u001b[0;36mdelete_document\u001b[0;34m(store, document_name)\u001b[0m\n\u001b[1;32m      3\u001b[0m vector_df \u001b[38;5;241m=\u001b[39m store_to_df(store)\n\u001b[1;32m      4\u001b[0m chunk_lists \u001b[38;5;241m=\u001b[39m vector_df\u001b[38;5;241m.\u001b[39mloc[vector_df[\u001b[38;5;124m\"\u001b[39m\u001b[38;5;124mdoc_name\u001b[39m\u001b[38;5;124m\"\u001b[39m]\u001b[38;5;241m==\u001b[39mdocument_name][\u001b[38;5;124m\"\u001b[39m\u001b[38;5;124mchunk_id\u001b[39m\u001b[38;5;124m\"\u001b[39m]\u001b[38;5;241m.\u001b[39mtolist()\n\u001b[0;32m----> 5\u001b[0m \u001b[43mstore\u001b[49m\u001b[38;5;241;43m.\u001b[39;49m\u001b[43mdelete\u001b[49m\u001b[43m(\u001b[49m\u001b[43mids\u001b[49m\u001b[38;5;241;43m=\u001b[39;49m\u001b[43mchunk_lists\u001b[49m\u001b[43m)\u001b[49m\n",
      "File \u001b[0;32m~/langchain/.venv/lib/python3.9/site-packages/langchain_community/vectorstores/faiss.py:932\u001b[0m, in \u001b[0;36mFAISS.delete\u001b[0;34m(self, ids, **kwargs)\u001b[0m\n\u001b[1;32m    930\u001b[0m missing_ids \u001b[38;5;241m=\u001b[39m \u001b[38;5;28mset\u001b[39m(ids)\u001b[38;5;241m.\u001b[39mdifference(\u001b[38;5;28mself\u001b[39m\u001b[38;5;241m.\u001b[39mindex_to_docstore_id\u001b[38;5;241m.\u001b[39mvalues())\n\u001b[1;32m    931\u001b[0m \u001b[38;5;28;01mif\u001b[39;00m missing_ids:\n\u001b[0;32m--> 932\u001b[0m     \u001b[38;5;28;01mraise\u001b[39;00m \u001b[38;5;167;01mValueError\u001b[39;00m(\n\u001b[1;32m    933\u001b[0m         \u001b[38;5;124mf\u001b[39m\u001b[38;5;124m\"\u001b[39m\u001b[38;5;124mSome specified ids do not exist in the current store. Ids not found: \u001b[39m\u001b[38;5;124m\"\u001b[39m\n\u001b[1;32m    934\u001b[0m         \u001b[38;5;124mf\u001b[39m\u001b[38;5;124m\"\u001b[39m\u001b[38;5;132;01m{\u001b[39;00mmissing_ids\u001b[38;5;132;01m}\u001b[39;00m\u001b[38;5;124m\"\u001b[39m\n\u001b[1;32m    935\u001b[0m     )\n\u001b[1;32m    937\u001b[0m reversed_index \u001b[38;5;241m=\u001b[39m {id_: idx \u001b[38;5;28;01mfor\u001b[39;00m idx, id_ \u001b[38;5;129;01min\u001b[39;00m \u001b[38;5;28mself\u001b[39m\u001b[38;5;241m.\u001b[39mindex_to_docstore_id\u001b[38;5;241m.\u001b[39mitems()}\n\u001b[1;32m    938\u001b[0m index_to_delete \u001b[38;5;241m=\u001b[39m {reversed_index[id_] \u001b[38;5;28;01mfor\u001b[39;00m id_ \u001b[38;5;129;01min\u001b[39;00m ids}\n",
      "\u001b[0;31mValueError\u001b[0m: Some specified ids do not exist in the current store. Ids not found: {'d6ecac64-6f21-4029-9595-5ac1392d1819', '2b773050-edf7-44e3-8d98-d30c2c54861d', '2552946a-d283-4400-a940-8377c4b86792', 'a9c11743-3320-4276-8e6c-5eb1f51a2f77', 'da3c88a7-1784-443e-8b70-48bd1c53a6b5', 'd0e2b6f9-4dfe-4a19-a3f0-b66cc21aed58', '161bea2b-c5af-4166-b3aa-a9b31ebe7ea2', '1220f9a9-178e-4894-bbbf-c2726c5ee5c1', 'a3d3bce2-1539-471f-81aa-30bde8c5f3ef', '10a16c5b-1c04-4654-b28b-1931011d3249', '082904f6-ef86-4e51-8fca-d0a4ca96c6cb', '43d974df-1b8d-456d-a38b-d437132f5b3f', 'a4133326-b13e-42fe-a7a3-7dd6bf650dfd', '3d32ba34-95de-4d8d-b0d2-1a74886b074b', '7ef97d1e-2612-4073-b51e-07da9f4f6698', '8514b71e-1d5f-4c34-90d3-5bbd99fd06c6', '2aed02b6-0cbf-4013-8440-3cfa4277a67a', '0cc79b5e-a53e-41af-a2a3-55bf1e61aead', '1755041a-31ab-494b-81dc-08df5093ab19', '27413390-f656-46b8-b831-130e6897f591', '3b5d950f-ef86-4eda-93f3-f5a54f886d05', '73aa854f-0213-45c4-bf0f-5258457a927a', '335a5260-5afd-499c-91a4-d554cf277bee'}"
     ]
    }
   ],
   "source": [
    "delete_document(localdb, \"01.pdf\")"
   ]
  },
  {
   "cell_type": "code",
   "execution_count": 66,
   "metadata": {},
   "outputs": [
    {
     "data": {
      "text/html": [
       "<div>\n",
       "<style scoped>\n",
       "    .dataframe tbody tr th:only-of-type {\n",
       "        vertical-align: middle;\n",
       "    }\n",
       "\n",
       "    .dataframe tbody tr th {\n",
       "        vertical-align: top;\n",
       "    }\n",
       "\n",
       "    .dataframe thead th {\n",
       "        text-align: right;\n",
       "    }\n",
       "</style>\n",
       "<table border=\"1\" class=\"dataframe\">\n",
       "  <thead>\n",
       "    <tr style=\"text-align: right;\">\n",
       "      <th></th>\n",
       "      <th>chunk_id</th>\n",
       "      <th>doc_name</th>\n",
       "      <th>page_number</th>\n",
       "      <th>page_content</th>\n",
       "    </tr>\n",
       "  </thead>\n",
       "  <tbody>\n",
       "    <tr>\n",
       "      <th>0</th>\n",
       "      <td>2aed02b6-0cbf-4013-8440-3cfa4277a67a</td>\n",
       "      <td>01.pdf</td>\n",
       "      <td>1</td>\n",
       "      <td>衝\\n一\\n波\\n$\u0014\u0019\u0012\u000e$07&amp;3\u000e\u0013\u0011\u0013\u0015\u000fJOEE\u0001\u0001\u0001\u0015$\u0014\u0019\u0012\u000e$07&amp;3\u000e\u0013\u0011...</td>\n",
       "    </tr>\n",
       "    <tr>\n",
       "      <th>1</th>\n",
       "      <td>a4133326-b13e-42fe-a7a3-7dd6bf650dfd</td>\n",
       "      <td>01.pdf</td>\n",
       "      <td>2</td>\n",
       "      <td>網路報導專區\\n下載PDF手冊\\n閱讀\\n動態電子書\\n23　中　環\\t 蘭桂坊Bar Ho...</td>\n",
       "    </tr>\n",
       "    <tr>\n",
       "      <th>2</th>\n",
       "      <td>8514b71e-1d5f-4c34-90d3-5bbd99fd06c6</td>\n",
       "      <td>01.pdf</td>\n",
       "      <td>3</td>\n",
       "      <td>04\\n地址：香港九龍太子砵蘭街418號地下 電話：＋852-2392-9283\\n營業時間...</td>\n",
       "    </tr>\n",
       "    <tr>\n",
       "      <th>3</th>\n",
       "      <td>1220f9a9-178e-4894-bbbf-c2726c5ee5c1</td>\n",
       "      <td>01.pdf</td>\n",
       "      <td>4</td>\n",
       "      <td>06\\n地址：香港九龍旺角通菜街1A-1L 威達 Deli2商業大廈1字樓 B 舖 電話：＋...</td>\n",
       "    </tr>\n",
       "    <tr>\n",
       "      <th>4</th>\n",
       "      <td>7ef97d1e-2612-4073-b51e-07da9f4f6698</td>\n",
       "      <td>01.pdf</td>\n",
       "      <td>5</td>\n",
       "      <td>08\\n地址：香港銅鑼灣謝斐道477-481號肇明大廈地下及1樓 A 室 電話：＋852-2...</td>\n",
       "    </tr>\n",
       "    <tr>\n",
       "      <th>...</th>\n",
       "      <td>...</td>\n",
       "      <td>...</td>\n",
       "      <td>...</td>\n",
       "      <td>...</td>\n",
       "    </tr>\n",
       "    <tr>\n",
       "      <th>83</th>\n",
       "      <td>327de8f1-dde2-413c-95ea-46657d115137</td>\n",
       "      <td>04.pdf</td>\n",
       "      <td>25</td>\n",
       "      <td>4746\\n添好運點心專門店 \\np.11\\n寶華扎作 \\np.34\\n汝州街 \\n（珠仔街...</td>\n",
       "    </tr>\n",
       "    <tr>\n",
       "      <th>84</th>\n",
       "      <td>47ae1904-9a4d-41d1-a726-be047b871b2a</td>\n",
       "      <td>04.pdf</td>\n",
       "      <td>26</td>\n",
       "      <td>4948\\n 4948\\nDoughnut  \\np.9\\n福榮街 \\np.31\\n合益泰小...</td>\n",
       "    </tr>\n",
       "    <tr>\n",
       "      <th>85</th>\n",
       "      <td>5955aed7-927a-426b-95fb-77ed771b6bee</td>\n",
       "      <td>04.pdf</td>\n",
       "      <td>27</td>\n",
       "      <td>5150\\n福榮街 \\np.31\\n公和荳品廠 \\np.10\\n1\\n2\\n3\\n汝州街 \\...</td>\n",
       "    </tr>\n",
       "    <tr>\n",
       "      <th>86</th>\n",
       "      <td>0167bad6-7384-4c2a-9135-78c7e315a8aa</td>\n",
       "      <td>04.pdf</td>\n",
       "      <td>28</td>\n",
       "      <td>香港旅遊發展局旅客服務\\nHONG KONG TRAVEL BUDDY \\n歡迎旅客掃描QR...</td>\n",
       "    </tr>\n",
       "    <tr>\n",
       "      <th>87</th>\n",
       "      <td>a7452794-50d4-4433-bc54-ad4d3f4945ed</td>\n",
       "      <td>04.pdf</td>\n",
       "      <td>29</td>\n",
       "      <td></td>\n",
       "    </tr>\n",
       "  </tbody>\n",
       "</table>\n",
       "<p>88 rows × 4 columns</p>\n",
       "</div>"
      ],
      "text/plain": [
       "                                chunk_id doc_name  page_number  \\\n",
       "0   2aed02b6-0cbf-4013-8440-3cfa4277a67a   01.pdf            1   \n",
       "1   a4133326-b13e-42fe-a7a3-7dd6bf650dfd   01.pdf            2   \n",
       "2   8514b71e-1d5f-4c34-90d3-5bbd99fd06c6   01.pdf            3   \n",
       "3   1220f9a9-178e-4894-bbbf-c2726c5ee5c1   01.pdf            4   \n",
       "4   7ef97d1e-2612-4073-b51e-07da9f4f6698   01.pdf            5   \n",
       "..                                   ...      ...          ...   \n",
       "83  327de8f1-dde2-413c-95ea-46657d115137   04.pdf           25   \n",
       "84  47ae1904-9a4d-41d1-a726-be047b871b2a   04.pdf           26   \n",
       "85  5955aed7-927a-426b-95fb-77ed771b6bee   04.pdf           27   \n",
       "86  0167bad6-7384-4c2a-9135-78c7e315a8aa   04.pdf           28   \n",
       "87  a7452794-50d4-4433-bc54-ad4d3f4945ed   04.pdf           29   \n",
       "\n",
       "                                         page_content  \n",
       "0   衝\\n一\\n波\\n$\u0014\u0019\u0012\u000e$07&3\u000e\u0013\u0011\u0013\u0015\u000fJOEE\u0001\u0001\u0001\u0015$\u0014\u0019\u0012\u000e$07&3\u000e\u0013\u0011...  \n",
       "1   網路報導專區\\n下載PDF手冊\\n閱讀\\n動態電子書\\n23　中　環\\t 蘭桂坊Bar Ho...  \n",
       "2   04\\n地址：香港九龍太子砵蘭街418號地下 電話：＋852-2392-9283\\n營業時間...  \n",
       "3   06\\n地址：香港九龍旺角通菜街1A-1L 威達 Deli2商業大廈1字樓 B 舖 電話：＋...  \n",
       "4   08\\n地址：香港銅鑼灣謝斐道477-481號肇明大廈地下及1樓 A 室 電話：＋852-2...  \n",
       "..                                                ...  \n",
       "83  4746\\n添好運點心專門店 \\np.11\\n寶華扎作 \\np.34\\n汝州街 \\n（珠仔街...  \n",
       "84  4948\\n 4948\\nDoughnut  \\np.9\\n福榮街 \\np.31\\n合益泰小...  \n",
       "85  5150\\n福榮街 \\np.31\\n公和荳品廠 \\np.10\\n1\\n2\\n3\\n汝州街 \\...  \n",
       "86  香港旅遊發展局旅客服務\\nHONG KONG TRAVEL BUDDY \\n歡迎旅客掃描QR...  \n",
       "87                                                     \n",
       "\n",
       "[88 rows x 4 columns]"
      ]
     },
     "metadata": {},
     "output_type": "display_data"
    }
   ],
   "source": [
    "show_vectorStore(localdb)"
   ]
  },
  {
   "cell_type": "code",
   "execution_count": 49,
   "metadata": {},
   "outputs": [
    {
     "name": "stdout",
     "output_type": "stream",
     "text": [
      "\n",
      "\n",
      "\u001b[1m> Entering new RetrievalQA chain...\u001b[0m\n",
      "\n",
      "\u001b[1m> Finished chain.\u001b[0m\n",
      " I don't know\n"
     ]
    }
   ],
   "source": [
    "model = refresh_model(localdb)\n",
    "\n",
    "query = \"泰昌餅家的地址是哪裡？\"\n",
    "\n",
    "response = model(\n",
    "    { \"query\": query},\n",
    "    return_only_outputs=True\n",
    ")\n",
    "print(response['result'])"
   ]
  },
  {
   "cell_type": "markdown",
   "metadata": {},
   "source": [
    "如何添加資料到VectorDB"
   ]
  },
  {
   "cell_type": "code",
   "execution_count": 58,
   "metadata": {},
   "outputs": [],
   "source": [
    "def add_vector_store(store, directory):\n",
    "    loader = PyPDFLoader(directory)\n",
    "\n",
    "    doc = loader.load()\n",
    "\n",
    "    text_splitter = RecursiveCharacterTextSplitter(\n",
    "        chunk_size=1000,\n",
    "        chunk_overlap=100,\n",
    "        length_function=len,\n",
    "        separators=[\"\\n\\n\", \"\\n\", \" \", \"\"]\n",
    "    )\n",
    "\n",
    "    chunks = text_splitter.split_documents(doc)\n",
    "\n",
    "    extension = FAISS.from_documents(chunks, embeddings)\n",
    "    store.merge_from(extension)"
   ]
  },
  {
   "cell_type": "code",
   "execution_count": 59,
   "metadata": {},
   "outputs": [],
   "source": [
    "add_vector_store(localdb, \"docs/05.pdf\")"
   ]
  },
  {
   "cell_type": "code",
   "execution_count": 60,
   "metadata": {},
   "outputs": [
    {
     "data": {
      "text/html": [
       "<div>\n",
       "<style scoped>\n",
       "    .dataframe tbody tr th:only-of-type {\n",
       "        vertical-align: middle;\n",
       "    }\n",
       "\n",
       "    .dataframe tbody tr th {\n",
       "        vertical-align: top;\n",
       "    }\n",
       "\n",
       "    .dataframe thead th {\n",
       "        text-align: right;\n",
       "    }\n",
       "</style>\n",
       "<table border=\"1\" class=\"dataframe\">\n",
       "  <thead>\n",
       "    <tr style=\"text-align: right;\">\n",
       "      <th></th>\n",
       "      <th>chunk_id</th>\n",
       "      <th>doc_name</th>\n",
       "      <th>page_number</th>\n",
       "      <th>page_content</th>\n",
       "    </tr>\n",
       "  </thead>\n",
       "  <tbody>\n",
       "    <tr>\n",
       "      <th>0</th>\n",
       "      <td>2aed02b6-0cbf-4013-8440-3cfa4277a67a</td>\n",
       "      <td>01.pdf</td>\n",
       "      <td>1</td>\n",
       "      <td>衝\\n一\\n波\\n$\u0014\u0019\u0012\u000e$07&amp;3\u000e\u0013\u0011\u0013\u0015\u000fJOEE\u0001\u0001\u0001\u0015$\u0014\u0019\u0012\u000e$07&amp;3\u000e\u0013\u0011...</td>\n",
       "    </tr>\n",
       "    <tr>\n",
       "      <th>1</th>\n",
       "      <td>a4133326-b13e-42fe-a7a3-7dd6bf650dfd</td>\n",
       "      <td>01.pdf</td>\n",
       "      <td>2</td>\n",
       "      <td>網路報導專區\\n下載PDF手冊\\n閱讀\\n動態電子書\\n23　中　環\\t 蘭桂坊Bar Ho...</td>\n",
       "    </tr>\n",
       "    <tr>\n",
       "      <th>2</th>\n",
       "      <td>8514b71e-1d5f-4c34-90d3-5bbd99fd06c6</td>\n",
       "      <td>01.pdf</td>\n",
       "      <td>3</td>\n",
       "      <td>04\\n地址：香港九龍太子砵蘭街418號地下 電話：＋852-2392-9283\\n營業時間...</td>\n",
       "    </tr>\n",
       "    <tr>\n",
       "      <th>3</th>\n",
       "      <td>1220f9a9-178e-4894-bbbf-c2726c5ee5c1</td>\n",
       "      <td>01.pdf</td>\n",
       "      <td>4</td>\n",
       "      <td>06\\n地址：香港九龍旺角通菜街1A-1L 威達 Deli2商業大廈1字樓 B 舖 電話：＋...</td>\n",
       "    </tr>\n",
       "    <tr>\n",
       "      <th>4</th>\n",
       "      <td>7ef97d1e-2612-4073-b51e-07da9f4f6698</td>\n",
       "      <td>01.pdf</td>\n",
       "      <td>5</td>\n",
       "      <td>08\\n地址：香港銅鑼灣謝斐道477-481號肇明大廈地下及1樓 A 室 電話：＋852-2...</td>\n",
       "    </tr>\n",
       "    <tr>\n",
       "      <th>...</th>\n",
       "      <td>...</td>\n",
       "      <td>...</td>\n",
       "      <td>...</td>\n",
       "      <td>...</td>\n",
       "    </tr>\n",
       "    <tr>\n",
       "      <th>83</th>\n",
       "      <td>327de8f1-dde2-413c-95ea-46657d115137</td>\n",
       "      <td>04.pdf</td>\n",
       "      <td>25</td>\n",
       "      <td>4746\\n添好運點心專門店 \\np.11\\n寶華扎作 \\np.34\\n汝州街 \\n（珠仔街...</td>\n",
       "    </tr>\n",
       "    <tr>\n",
       "      <th>84</th>\n",
       "      <td>47ae1904-9a4d-41d1-a726-be047b871b2a</td>\n",
       "      <td>04.pdf</td>\n",
       "      <td>26</td>\n",
       "      <td>4948\\n 4948\\nDoughnut  \\np.9\\n福榮街 \\np.31\\n合益泰小...</td>\n",
       "    </tr>\n",
       "    <tr>\n",
       "      <th>85</th>\n",
       "      <td>5955aed7-927a-426b-95fb-77ed771b6bee</td>\n",
       "      <td>04.pdf</td>\n",
       "      <td>27</td>\n",
       "      <td>5150\\n福榮街 \\np.31\\n公和荳品廠 \\np.10\\n1\\n2\\n3\\n汝州街 \\...</td>\n",
       "    </tr>\n",
       "    <tr>\n",
       "      <th>86</th>\n",
       "      <td>0167bad6-7384-4c2a-9135-78c7e315a8aa</td>\n",
       "      <td>04.pdf</td>\n",
       "      <td>28</td>\n",
       "      <td>香港旅遊發展局旅客服務\\nHONG KONG TRAVEL BUDDY \\n歡迎旅客掃描QR...</td>\n",
       "    </tr>\n",
       "    <tr>\n",
       "      <th>87</th>\n",
       "      <td>a7452794-50d4-4433-bc54-ad4d3f4945ed</td>\n",
       "      <td>04.pdf</td>\n",
       "      <td>29</td>\n",
       "      <td></td>\n",
       "    </tr>\n",
       "  </tbody>\n",
       "</table>\n",
       "<p>88 rows × 4 columns</p>\n",
       "</div>"
      ],
      "text/plain": [
       "                                chunk_id doc_name  page_number  \\\n",
       "0   2aed02b6-0cbf-4013-8440-3cfa4277a67a   01.pdf            1   \n",
       "1   a4133326-b13e-42fe-a7a3-7dd6bf650dfd   01.pdf            2   \n",
       "2   8514b71e-1d5f-4c34-90d3-5bbd99fd06c6   01.pdf            3   \n",
       "3   1220f9a9-178e-4894-bbbf-c2726c5ee5c1   01.pdf            4   \n",
       "4   7ef97d1e-2612-4073-b51e-07da9f4f6698   01.pdf            5   \n",
       "..                                   ...      ...          ...   \n",
       "83  327de8f1-dde2-413c-95ea-46657d115137   04.pdf           25   \n",
       "84  47ae1904-9a4d-41d1-a726-be047b871b2a   04.pdf           26   \n",
       "85  5955aed7-927a-426b-95fb-77ed771b6bee   04.pdf           27   \n",
       "86  0167bad6-7384-4c2a-9135-78c7e315a8aa   04.pdf           28   \n",
       "87  a7452794-50d4-4433-bc54-ad4d3f4945ed   04.pdf           29   \n",
       "\n",
       "                                         page_content  \n",
       "0   衝\\n一\\n波\\n$\u0014\u0019\u0012\u000e$07&3\u000e\u0013\u0011\u0013\u0015\u000fJOEE\u0001\u0001\u0001\u0015$\u0014\u0019\u0012\u000e$07&3\u000e\u0013\u0011...  \n",
       "1   網路報導專區\\n下載PDF手冊\\n閱讀\\n動態電子書\\n23　中　環\\t 蘭桂坊Bar Ho...  \n",
       "2   04\\n地址：香港九龍太子砵蘭街418號地下 電話：＋852-2392-9283\\n營業時間...  \n",
       "3   06\\n地址：香港九龍旺角通菜街1A-1L 威達 Deli2商業大廈1字樓 B 舖 電話：＋...  \n",
       "4   08\\n地址：香港銅鑼灣謝斐道477-481號肇明大廈地下及1樓 A 室 電話：＋852-2...  \n",
       "..                                                ...  \n",
       "83  4746\\n添好運點心專門店 \\np.11\\n寶華扎作 \\np.34\\n汝州街 \\n（珠仔街...  \n",
       "84  4948\\n 4948\\nDoughnut  \\np.9\\n福榮街 \\np.31\\n合益泰小...  \n",
       "85  5150\\n福榮街 \\np.31\\n公和荳品廠 \\np.10\\n1\\n2\\n3\\n汝州街 \\...  \n",
       "86  香港旅遊發展局旅客服務\\nHONG KONG TRAVEL BUDDY \\n歡迎旅客掃描QR...  \n",
       "87                                                     \n",
       "\n",
       "[88 rows x 4 columns]"
      ]
     },
     "metadata": {},
     "output_type": "display_data"
    }
   ],
   "source": [
    "show_vectorStore(localdb)"
   ]
  },
  {
   "cell_type": "code",
   "execution_count": 64,
   "metadata": {},
   "outputs": [
    {
     "name": "stdout",
     "output_type": "stream",
     "text": [
      "\n",
      "\n",
      "\u001b[1m> Entering new RetrievalQA chain...\u001b[0m\n",
      "\n",
      "\u001b[1m> Finished chain.\u001b[0m\n",
      " 和昌飯店（Good Chop Restaurant）位於香港上環區域，提供著名的擔肉蠻類食物。它的地址為：1/F, 18-20 Wellington Street, Central, Hong Kong。電話號碼是：+852 2869 3888。\n"
     ]
    }
   ],
   "source": [
    "model = refresh_model(localdb)\n",
    "\n",
    "query = \"和昌飯店有什麼好吃的？ 它的地址和電話是什麼?\"\n",
    "\n",
    "response = model(\n",
    "    { \"query\": query},\n",
    "    return_only_outputs=True\n",
    ")\n",
    "print(response['result'])"
   ]
  }
 ],
 "metadata": {
  "kernelspec": {
   "display_name": ".venv",
   "language": "python",
   "name": "python3"
  },
  "language_info": {
   "codemirror_mode": {
    "name": "ipython",
    "version": 3
   },
   "file_extension": ".py",
   "mimetype": "text/x-python",
   "name": "python",
   "nbconvert_exporter": "python",
   "pygments_lexer": "ipython3",
   "version": "3.9.6"
  }
 },
 "nbformat": 4,
 "nbformat_minor": 2
}
