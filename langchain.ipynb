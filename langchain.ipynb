{
 "cells": [
  {
   "cell_type": "code",
   "execution_count": 11,
   "metadata": {},
   "outputs": [
    {
     "data": {
      "text/plain": [
       "True"
      ]
     },
     "execution_count": 11,
     "metadata": {},
     "output_type": "execute_result"
    }
   ],
   "source": [
    "import os\n",
    "\n",
    "from dotenv import load_dotenv, find_dotenv\n",
    "\n",
    "load_dotenv(find_dotenv(), override = True)\n",
    "\n",
    "# os.environ.get('OPENAI_API_KEY')"
   ]
  },
  {
   "cell_type": "code",
   "execution_count": 6,
   "metadata": {},
   "outputs": [],
   "source": [
    "from langchain_openai import ChatOpenAI"
   ]
  },
  {
   "cell_type": "code",
   "execution_count": 13,
   "metadata": {},
   "outputs": [],
   "source": [
    "chat = ChatOpenAI(\n",
    "    openai_api_base = os.environ[\"CHATGPT_API_ENDPOINT\"],\n",
    "    openai_api_key = os.environ[\"OPENAI_API_KEY\"]\n",
    ")"
   ]
  },
  {
   "cell_type": "code",
   "execution_count": 19,
   "metadata": {},
   "outputs": [],
   "source": [
    "prompt = \"\"\"\"根據以下上下文回答問題。\n",
    "如果無法根據提供的信息回答。請回答\"我不知道\"。\n",
    "\n",
    "上下文: 大型語言模型(LLM)是自然語言處理中最新使用的模型。\n",
    "與較小的模型相比，它們出色的性能使它們對於構建支持自然語言處理的應用開發程序的開發人員非常有用。\n",
    "有這些模型可以通過Hugging Face的transformers庫、OpenAI的openai庫以及Cohere的cohere庫來訪問。\n",
    "\n",
    "問題: 什麼庫提供LLM?\n",
    "\n",
    "回答: \n",
    "\"\"\""
   ]
  },
  {
   "cell_type": "code",
   "execution_count": 20,
   "metadata": {},
   "outputs": [
    {
     "name": "stdout",
     "output_type": "stream",
     "text": [
      "Hugging Face的transformers庫、OpenAI的openai庫以及Cohere的cohere庫。\n"
     ]
    }
   ],
   "source": [
    "result = chat.invoke(prompt)\n",
    "print(result.content)"
   ]
  },
  {
   "cell_type": "code",
   "execution_count": 26,
   "metadata": {},
   "outputs": [],
   "source": [
    "from langchain import PromptTemplate"
   ]
  },
  {
   "cell_type": "code",
   "execution_count": 24,
   "metadata": {},
   "outputs": [],
   "source": [
    "template = \"\"\"\"根據以下上下文回答問題。\n",
    "如果無法根據提供的信息回答。請回答\"我不知道\"。\n",
    "\n",
    "上下文: 大型語言模型(LLM)是自然語言處理中最新使用的模型。\n",
    "與較小的模型相比，它們出色的性能使它們對於構建支持自然語言處理的應用開發程序的開發人員非常有用。\n",
    "有這些模型可以通過Hugging Face的transformers庫、OpenAI的openai庫以及Cohere的cohere庫來訪問。\n",
    "\n",
    "問題: {query}\n",
    "\n",
    "回答: \n",
    "\"\"\""
   ]
  },
  {
   "cell_type": "code",
   "execution_count": 27,
   "metadata": {},
   "outputs": [],
   "source": [
    "prompt_template = PromptTemplate(\n",
    "    input_variables = ['query'],\n",
    "    template = template\n",
    ")"
   ]
  },
  {
   "cell_type": "code",
   "execution_count": 29,
   "metadata": {},
   "outputs": [
    {
     "name": "stdout",
     "output_type": "stream",
     "text": [
      "LLM是大型語言模型，是自然語言處理中最新使用的模型之一。它們通過Hugging Face的transformers庫、OpenAI的openai庫以及Cohere的cohere庫來訪問。\n"
     ]
    }
   ],
   "source": [
    "question = \"LLM是什麼？\"\n",
    "myPrompt = prompt_template.format(query = question)\n",
    "print(chat.invoke(myPrompt).content)"
   ]
  },
  {
   "cell_type": "code",
   "execution_count": 30,
   "metadata": {},
   "outputs": [],
   "source": [
    "prompt = \"\"\"如下是AI駐守的對話。\n",
    "這位助手比較幽默，對用戶的提問會給出非常有創意及有趣的回應。\n",
    "\n",
    "用戶: 我很好？\n",
    "AI: 我的感覺很不錯，你呢？\n",
    "\n",
    "用戶: 現在幾點了？\n",
    "AI: 你等等, 我要先解鎖我的iPhone\n",
    "\n",
    "用戶: 什麼味道的冰淇淋比較好吃？\n",
    "AI:\n",
    "\"\"\""
   ]
  },
  {
   "cell_type": "code",
   "execution_count": 32,
   "metadata": {},
   "outputs": [
    {
     "name": "stdout",
     "output_type": "stream",
     "text": [
      "哈哈，這個問題可真是棘手！我個人比較喜歡巧克力口味的冰淇淋，不過每個人的口味都不同嘛！或許你可以試試看混合口味的冰淇淋，比如香草和草莓，或者巧克力和焦糖，讓味蕾也來個驚喜吧！\n"
     ]
    }
   ],
   "source": [
    "print(chat.invoke(prompt).content)"
   ]
  }
 ],
 "metadata": {
  "kernelspec": {
   "display_name": ".venv",
   "language": "python",
   "name": "python3"
  },
  "language_info": {
   "codemirror_mode": {
    "name": "ipython",
    "version": 3
   },
   "file_extension": ".py",
   "mimetype": "text/x-python",
   "name": "python",
   "nbconvert_exporter": "python",
   "pygments_lexer": "ipython3",
   "version": "3.9.6"
  }
 },
 "nbformat": 4,
 "nbformat_minor": 2
}
