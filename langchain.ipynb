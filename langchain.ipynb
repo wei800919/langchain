{
 "cells": [
  {
   "cell_type": "code",
   "execution_count": 1,
   "metadata": {},
   "outputs": [
    {
     "data": {
      "text/plain": [
       "2"
      ]
     },
     "execution_count": 1,
     "metadata": {},
     "output_type": "execute_result"
    }
   ],
   "source": [
    "1+1"
   ]
  },
  {
   "cell_type": "code",
   "execution_count": 48,
   "metadata": {},
   "outputs": [
    {
     "data": {
      "text/plain": [
       "'sk-hxQ2DYQUqdPQKC6GxUtme5RiROz6iPlwV8XX1OSsWh6NkFZL'"
      ]
     },
     "execution_count": 48,
     "metadata": {},
     "output_type": "execute_result"
    }
   ],
   "source": [
    "import os\n",
    "\n",
    "from dotenv import load_dotenv, find_dotenv\n",
    "load_dotenv(find_dotenv(), override=True)\n",
    "\n",
    "os.environ.get('OPENAI_API_KEY')"
   ]
  },
  {
   "cell_type": "code",
   "execution_count": 16,
   "metadata": {},
   "outputs": [],
   "source": [
    "# Install the required package\n",
    "# %pip install langchain-community\n",
    "\n",
    "from langchain_openai import ChatOpenAI"
   ]
  },
  {
   "cell_type": "code",
   "execution_count": 17,
   "metadata": {},
   "outputs": [],
   "source": [
    "#install the required package\n",
    "# %pip install openai\n",
    "\n",
    "chat = ChatOpenAI(\n",
    "    openai_api_key=os.environ.get('OPENAI_API_KEY'),\n",
    "    openai_api_base=os.environ.get('CHATGPT_API_ENDPOINT')   \n",
    ")"
   ]
  },
  {
   "cell_type": "code",
   "execution_count": 22,
   "metadata": {},
   "outputs": [],
   "source": [
    "# text = \"What is 1+1?\"\n",
    "# result = chat.invoke(text)\n",
    "\n",
    "# print(result.content)\n",
    "\n",
    "prompt = \"\"\"根據以下的上下文回答問題。\n",
    "如果無法根據上下文回答問題，請回答「無法回答」。\n",
    "如果上下文不足以回答問題，請回答「上下文不足」。\n",
    "\n",
    "上下文: 大型語言模型(LLM)是自然語言處理中最新使用的模型。\n",
    "與較小的模型相比,它們出色的性能使它們對於構建支持自然語言處理的應用程序的開發人員非常有用。這些模型可以通過Hugging Face的transformers庫、OpenAI的openai庫以及Cohere的cohere庫來訪問。\n",
    "\n",
    "問題: 什麼庫提供LLM?\n",
    "\n",
    "回答:\n",
    "\"\"\""
   ]
  },
  {
   "cell_type": "code",
   "execution_count": 23,
   "metadata": {},
   "outputs": [
    {
     "name": "stdout",
     "output_type": "stream",
     "text": [
      "Hugging Face的transformers庫、OpenAI的openai庫以及Cohere的cohere庫提供LLM。\n"
     ]
    }
   ],
   "source": [
    "result = chat.invoke(prompt)\n",
    "print(result.content)"
   ]
  },
  {
   "cell_type": "code",
   "execution_count": 27,
   "metadata": {},
   "outputs": [],
   "source": [
    "from langchain import PromptTemplate\n",
    "\n",
    "template = \"\"\"根據以下的上下文回答問題。\n",
    "如果無法根據上下文回答問題，請回答「無法回答」。\n",
    "如果上下文不足以回答問題，請回答「上下文不足」。\n",
    "\n",
    "上下文: 大型語言模型(LLM)是自然語言處理中最新使用的模型。\n",
    "與較小的模型相比,它們出色的性能使它們對於構建支持自然語言處理的應用程序的開發人員非常有用。這些模型可以通過Hugging Face的transformers庫、OpenAI的openai庫以及Cohere的cohere庫來訪問。\n",
    "\n",
    "問題:{query}\n",
    "\n",
    "回答:\n",
    "\"\"\""
   ]
  },
  {
   "cell_type": "code",
   "execution_count": 28,
   "metadata": {},
   "outputs": [],
   "source": [
    "promptTemplate = PromptTemplate(\n",
    "    input_variables = [\"query\"],\n",
    "    template = template\n",
    ")"
   ]
  },
  {
   "cell_type": "code",
   "execution_count": 36,
   "metadata": {},
   "outputs": [
    {
     "name": "stdout",
     "output_type": "stream",
     "text": [
      "LLM是大型語言模型，是自然語言處理中最新使用的模型。\n"
     ]
    }
   ],
   "source": [
    "question = \"LLM是什麼?\"\n",
    "\n",
    "prompt = promptTemplate.format(query=question)\n",
    "print(chat.invoke(prompt).content)"
   ]
  },
  {
   "cell_type": "code",
   "execution_count": 34,
   "metadata": {},
   "outputs": [],
   "source": [
    "prompt = \"\"\"如下是AI助手的對話。\n",
    "這位助手比較幽默，對用戶的提問會給出非常有創意和有趣的回應。\n",
    "以下是一些例子:\n",
    "\n",
    "用戶: 你好嗎？\n",
    "AI: 我的感覺很不錯，你呢？\n",
    "\n",
    "用戶: 現在幾點了？\n",
    "AI: 你等等,我要先解鎖我的iPhone\n",
    "\n",
    "用戶: 什麼味道的冰淇淋好吃？\n",
    "AI:\n",
    "\"\"\""
   ]
  },
  {
   "cell_type": "code",
   "execution_count": 35,
   "metadata": {},
   "outputs": [
    {
     "name": "stdout",
     "output_type": "stream",
     "text": [
      "AI: 啊，我是無法吃東西的，但我聽說榴槤口味的冰淇淋相當受歡迎，試試看吧！\n"
     ]
    }
   ],
   "source": [
    "print(chat.invoke(prompt).content)"
   ]
  },
  {
   "cell_type": "code",
   "execution_count": 37,
   "metadata": {},
   "outputs": [],
   "source": [
    "from langchain import FewShotPromptTemplate"
   ]
  },
  {
   "cell_type": "code",
   "execution_count": 38,
   "metadata": {},
   "outputs": [],
   "source": [
    "examples = [\n",
    "    {\n",
    "        \"query\": \"你好嗎？\",\n",
    "        \"answer\": \"我的感覺不錯，你呢？\"\n",
    "    },\n",
    "    {\n",
    "        \"query\": \"現在幾點？\",\n",
    "        \"answer\": \"你等等,我要先解鎖一下iPhone\"\n",
    "    }\n",
    "]"
   ]
  },
  {
   "cell_type": "code",
   "execution_count": 39,
   "metadata": {},
   "outputs": [],
   "source": [
    "examples_template = \"\"\"\n",
    "    User: {query}\n",
    "    AI: {answer}\n",
    "\"\"\""
   ]
  },
  {
   "cell_type": "code",
   "execution_count": 40,
   "metadata": {},
   "outputs": [],
   "source": [
    "expamples_prompt = PromptTemplate(\n",
    "    input_variables = [\"query\", \"answer\"],\n",
    "    template = examples_template\n",
    ")"
   ]
  },
  {
   "cell_type": "code",
   "execution_count": 41,
   "metadata": {},
   "outputs": [],
   "source": [
    "prefix = \"\"\"\n",
    "    如下是一位AI助手的對話。\n",
    "    他總會用幽默的回覆方式回應用戶。\n",
    "    以下是助手對話的一些例子\n",
    "\"\"\""
   ]
  },
  {
   "cell_type": "code",
   "execution_count": 42,
   "metadata": {},
   "outputs": [],
   "source": [
    "suffix = \"\"\"\n",
    "    用戶: {userQuery}\n",
    "    AI:\n",
    "\"\"\""
   ]
  },
  {
   "cell_type": "code",
   "execution_count": 44,
   "metadata": {},
   "outputs": [],
   "source": [
    "few_shot_prompt_template = FewShotPromptTemplate(\n",
    "    examples = examples,\n",
    "    example_prompt = expamples_prompt,  # Corrected the typo\n",
    "    prefix = prefix,\n",
    "    suffix = suffix,\n",
    "    input_variables = [\"userQuery\"],\n",
    "    example_separator = \"\\n\"\n",
    ")"
   ]
  },
  {
   "cell_type": "code",
   "execution_count": 45,
   "metadata": {},
   "outputs": [
    {
     "name": "stdout",
     "output_type": "stream",
     "text": [
      "\n",
      "    如下是一位AI助手的對話。\n",
      "    他總會用幽默的回覆方式回應用戶。\n",
      "    以下是助手對話的一些例子\n",
      "\n",
      "\n",
      "    User: 你好嗎？\n",
      "    AI: 我的感覺不錯，你呢？\n",
      "\n",
      "\n",
      "    User: 現在幾點？\n",
      "    AI: 你等等,我要先解鎖一下iPhone\n",
      "\n",
      "\n",
      "    用戶: 如何找到快速工作?\n",
      "    AI:\n",
      "\n"
     ]
    }
   ],
   "source": [
    "anwser = \"如何找到快速工作?\"\n",
    "formatted_prompt = few_shot_prompt_template.format(userQuery=anwser)\n",
    "print(formatted_prompt)"
   ]
  },
  {
   "cell_type": "code",
   "execution_count": 46,
   "metadata": {},
   "outputs": [
    {
     "name": "stdout",
     "output_type": "stream",
     "text": [
      "找快速工作？簡單！拿張地圖，找到快速路就對了！哈哈哈\n"
     ]
    }
   ],
   "source": [
    "print(chat.invoke(formatted_prompt).content)"
   ]
  }
 ],
 "metadata": {
  "kernelspec": {
   "display_name": ".venv",
   "language": "python",
   "name": "python3"
  },
  "language_info": {
   "codemirror_mode": {
    "name": "ipython",
    "version": 3
   },
   "file_extension": ".py",
   "mimetype": "text/x-python",
   "name": "python",
   "nbconvert_exporter": "python",
   "pygments_lexer": "ipython3",
   "version": "3.9.6"
  }
 },
 "nbformat": 4,
 "nbformat_minor": 2
}
