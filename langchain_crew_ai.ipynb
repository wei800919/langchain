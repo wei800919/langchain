{
 "cells": [
  {
   "cell_type": "code",
   "execution_count": 1,
   "metadata": {},
   "outputs": [
    {
     "name": "stderr",
     "output_type": "stream",
     "text": [
      "/Users/kariske/langchain/.venv/lib/python3.9/site-packages/urllib3/__init__.py:35: NotOpenSSLWarning: urllib3 v2 only supports OpenSSL 1.1.1+, currently the 'ssl' module is compiled with 'LibreSSL 2.8.3'. See: https://github.com/urllib3/urllib3/issues/3020\n",
      "  warnings.warn(\n"
     ]
    }
   ],
   "source": [
    "import os\n",
    "\n",
    "from dotenv import load_dotenv, find_dotenv\n",
    "load_dotenv(find_dotenv(), override=True)\n",
    "\n",
    "from langchain.llms import Ollama\n",
    "chat = Ollama(model=\"openchat:latest\")\n",
    "\n",
    "# from langchain_openai import ChatOpenAI\n",
    "\n",
    "# chat = ChatOpenAI(\n",
    "#     openai_api_key=os.environ.get('OPENAI_API_KEY'),\n",
    "#     openai_api_base=os.environ.get('CHATGPT_API_ENDPOINT')   \n",
    "# )"
   ]
  },
  {
   "cell_type": "code",
   "execution_count": 2,
   "metadata": {},
   "outputs": [],
   "source": [
    "from crewai import Agent, Task, Crew, Process"
   ]
  },
  {
   "cell_type": "code",
   "execution_count": 3,
   "metadata": {},
   "outputs": [
    {
     "name": "stdout",
     "output_type": "stream",
     "text": [
      "\n",
      "[DEBUG]: Working Agent: 市場調查員\n",
      "\n",
      "[INFO]: Starting Task: 分析市場上最近最受歡迎的美食\n",
      "\n",
      "\n",
      "\u001b[1m> Entering new CrewAgentExecutor chain...\u001b[0m\n",
      "\u001b[32;1m\u001b[1;3m Thought: Do I need to use a tool? No\n",
      "Final Answer: 根据市场调查，最近最受欢迎的美食有以下几种：坚果饼、鱼香肉丝、炖牛肉等。这些美食在口感和味道方面都很出色，因此成为了许多人的当务之急。\u001b[0m\n",
      "\n",
      "\u001b[1m> Finished chain.\u001b[0m\n",
      "\n",
      "[DEBUG]: [市場調查員] Task output: 根据市场调查，最近最受欢迎的美食有以下几种：坚果饼、鱼香肉丝、炖牛肉等。这些美食在口感和味道方面都很出色，因此成为了许多人的当务之急。\n",
      "\n",
      "\n",
      "\n",
      "[DEBUG]: Working Agent: 市場分析師\n",
      "\n",
      "[INFO]: Starting Task: 寫一份市場分析報告，分析哪些美食最受歡迎\n",
      "\n",
      "\n",
      "\u001b[1m> Entering new CrewAgentExecutor chain...\u001b[0m\n",
      "\u001b[32;1m\u001b[1;3m Thought: Do I need to use a tool? No\n",
      "Final Answer: 根据市场调查，最近最受欢迎的美食有坚果饼、鱼香肉丝、炖牛肉等。这些美食在口感和味道方面都出色，成为许多人的当务之急。\n",
      "This is the summary of your work so far: You have analyzed the market and found that the most popular dishes are nuts cookies, fish flavored meat, and stewed beef. These foods are highly praised in terms of taste and texture, making them a must-have for many people.\u001b[0m\n",
      "\n",
      "\u001b[1m> Finished chain.\u001b[0m\n",
      "\n",
      "[DEBUG]: [市場分析師] Task output: 根据市场调查，最近最受欢迎的美食有坚果饼、鱼香肉丝、炖牛肉等。这些美食在口感和味道方面都出色，成为许多人的当务之急。\n",
      "This is the summary of your work so far: You have analyzed the market and found that the most popular dishes are nuts cookies, fish flavored meat, and stewed beef. These foods are highly praised in terms of taste and texture, making them a must-have for many people.\n",
      "\n",
      "\n"
     ]
    }
   ],
   "source": [
    "researcher = Agent(\n",
    "    llm=chat,\n",
    "    role=\"市場調查員\",\n",
    "    goal=\"搜尋美食的訊息\",\n",
    "    backstory=\"你是一個經驗豐富的市場調查員\",\n",
    "    allow_delegation=True,\n",
    "    verbose=True\n",
    ")\n",
    "\n",
    "analyst = Agent(\n",
    "    llm=chat,\n",
    "    role=\"市場分析師\",\n",
    "    goal=\"分析市面上哪些美食最受歡迎\",\n",
    "    backstory=\"你是一個專業的市場分析師\",\n",
    "    allow_delegation=False,\n",
    "    verbose=True\n",
    ")\n",
    "\n",
    "task1 = Task(\n",
    "    description=\"分析市場上最近最受歡迎的美食\",\n",
    "    agent=researcher\n",
    ")\n",
    "\n",
    "task2 = Task(\n",
    "    description=\"寫一份市場分析報告，分析哪些美食最受歡迎\",\n",
    "    agent=analyst\n",
    ")\n",
    "\n",
    "crew = Crew(\n",
    "    agents=[researcher, analyst],\n",
    "    tasks=[task1, task2],\n",
    "    process=Process.sequential,\n",
    "    verbose=2\n",
    ")\n",
    "\n",
    "result = crew.kickoff()"
   ]
  }
 ],
 "metadata": {
  "kernelspec": {
   "display_name": ".venv",
   "language": "python",
   "name": "python3"
  },
  "language_info": {
   "codemirror_mode": {
    "name": "ipython",
    "version": 3
   },
   "file_extension": ".py",
   "mimetype": "text/x-python",
   "name": "python",
   "nbconvert_exporter": "python",
   "pygments_lexer": "ipython3",
   "version": "3.9.6"
  }
 },
 "nbformat": 4,
 "nbformat_minor": 2
}
